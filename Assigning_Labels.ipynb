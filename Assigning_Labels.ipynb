{
 "cells": [
  {
   "cell_type": "code",
   "execution_count": 1,
   "id": "c5153b92-020b-4f83-b5ed-aa8d07af3899",
   "metadata": {},
   "outputs": [],
   "source": [
    "import pandas as pd\n",
    "import numpy as np"
   ]
  },
  {
   "cell_type": "code",
   "execution_count": 2,
   "id": "6b046c54-84e8-4933-97d8-827a5b3c37ba",
   "metadata": {},
   "outputs": [
    {
     "name": "stdout",
     "output_type": "stream",
     "text": [
      "(24000, 2)\n"
     ]
    },
    {
     "data": {
      "text/html": [
       "<div>\n",
       "<style scoped>\n",
       "    .dataframe tbody tr th:only-of-type {\n",
       "        vertical-align: middle;\n",
       "    }\n",
       "\n",
       "    .dataframe tbody tr th {\n",
       "        vertical-align: top;\n",
       "    }\n",
       "\n",
       "    .dataframe thead th {\n",
       "        text-align: right;\n",
       "    }\n",
       "</style>\n",
       "<table border=\"1\" class=\"dataframe\">\n",
       "  <thead>\n",
       "    <tr style=\"text-align: right;\">\n",
       "      <th></th>\n",
       "      <th>Text</th>\n",
       "      <th>label</th>\n",
       "    </tr>\n",
       "  </thead>\n",
       "  <tbody>\n",
       "    <tr>\n",
       "      <th>0</th>\n",
       "      <td>Urban Ladder Eisner Low Back Study-Office Comp...</td>\n",
       "      <td>Household</td>\n",
       "    </tr>\n",
       "    <tr>\n",
       "      <th>1</th>\n",
       "      <td>Contrast living Wooden Decorative Box,Painted ...</td>\n",
       "      <td>Household</td>\n",
       "    </tr>\n",
       "    <tr>\n",
       "      <th>2</th>\n",
       "      <td>IO Crest SY-PCI40010 PCI RAID Host Controller ...</td>\n",
       "      <td>Electronics</td>\n",
       "    </tr>\n",
       "    <tr>\n",
       "      <th>3</th>\n",
       "      <td>ISAKAA Baby Socks from Just Born to 8 Years- P...</td>\n",
       "      <td>Clothing &amp; Accessories</td>\n",
       "    </tr>\n",
       "    <tr>\n",
       "      <th>4</th>\n",
       "      <td>Indira Designer Women's Art Mysore Silk Saree ...</td>\n",
       "      <td>Clothing &amp; Accessories</td>\n",
       "    </tr>\n",
       "  </tbody>\n",
       "</table>\n",
       "</div>"
      ],
      "text/plain": [
       "                                                Text                   label\n",
       "0  Urban Ladder Eisner Low Back Study-Office Comp...               Household\n",
       "1  Contrast living Wooden Decorative Box,Painted ...               Household\n",
       "2  IO Crest SY-PCI40010 PCI RAID Host Controller ...             Electronics\n",
       "3  ISAKAA Baby Socks from Just Born to 8 Years- P...  Clothing & Accessories\n",
       "4  Indira Designer Women's Art Mysore Silk Saree ...  Clothing & Accessories"
      ]
     },
     "execution_count": 2,
     "metadata": {},
     "output_type": "execute_result"
    }
   ],
   "source": [
    "df = pd.read_csv(\"Ecommerce_data.csv\")\n",
    "print(df.shape)\n",
    "df.head(5)\n"
   ]
  },
  {
   "cell_type": "code",
   "execution_count": 29,
   "id": "0fb738ff-181d-4969-9cae-5e7d5feb6b61",
   "metadata": {},
   "outputs": [
    {
     "data": {
      "text/plain": [
       "label\n",
       "Household                 6000\n",
       "Electronics               6000\n",
       "Clothing & Accessories    6000\n",
       "Books                     6000\n",
       "Name: count, dtype: int64"
      ]
     },
     "execution_count": 29,
     "metadata": {},
     "output_type": "execute_result"
    }
   ],
   "source": [
    "df.label.value_counts()"
   ]
  },
  {
   "cell_type": "markdown",
   "id": "a3e919b5-875f-4249-9bea-b0ea234f9496",
   "metadata": {},
   "source": [
    "Label Encoding"
   ]
  },
  {
   "cell_type": "code",
   "execution_count": 4,
   "id": "f89c39d0-161b-4f66-8403-10959a065a02",
   "metadata": {},
   "outputs": [],
   "source": [
    "X = df.Text\n",
    "y = df.label"
   ]
  },
  {
   "cell_type": "code",
   "execution_count": 5,
   "id": "753feac4-b9b0-4b89-958a-eb0ad31b99c8",
   "metadata": {},
   "outputs": [],
   "source": [
    "from sklearn.preprocessing import LabelEncoder\n",
    "le = LabelEncoder()\n",
    "\n",
    "y = le.fit_transform(y)"
   ]
  },
  {
   "cell_type": "code",
   "execution_count": 6,
   "id": "8c63f5f7-af06-451e-9a7a-85845aa465ce",
   "metadata": {},
   "outputs": [
    {
     "name": "stdout",
     "output_type": "stream",
     "text": [
      "[3 3 2 1]\n"
     ]
    }
   ],
   "source": [
    "print(y[:4])"
   ]
  },
  {
   "cell_type": "markdown",
   "id": "1056f96c-fc85-49ad-a4aa-adb8e5debd5e",
   "metadata": {},
   "source": [
    "# Dividing train test data"
   ]
  },
  {
   "cell_type": "code",
   "execution_count": 7,
   "id": "14d703c9-7b79-4714-a691-35af1b4b665a",
   "metadata": {},
   "outputs": [],
   "source": [
    "from sklearn.model_selection import train_test_split\n",
    "\n",
    "X_train, X_test, y_train, y_test = train_test_split(\n",
    "    X, y, test_size=0.30, random_state=42,stratify = y)"
   ]
  },
  {
   "cell_type": "code",
   "execution_count": 8,
   "id": "d4ba744d-f66d-4ae6-9130-bcb0c3805e72",
   "metadata": {},
   "outputs": [
    {
     "name": "stdout",
     "output_type": "stream",
     "text": [
      "0.9623611111111111\n",
      "              precision    recall  f1-score   support\n",
      "\n",
      "           0       0.93      0.98      0.95      1711\n",
      "           1       0.98      0.98      0.98      1810\n",
      "           2       0.97      0.97      0.97      1797\n",
      "           3       0.97      0.93      0.95      1882\n",
      "\n",
      "    accuracy                           0.96      7200\n",
      "   macro avg       0.96      0.96      0.96      7200\n",
      "weighted avg       0.96      0.96      0.96      7200\n",
      "\n"
     ]
    }
   ],
   "source": [
    "from sklearn.pipeline import Pipeline\n",
    "from sklearn.feature_extraction.text import TfidfVectorizer\n",
    "from sklearn.naive_bayes import MultinomialNB\n",
    "from sklearn.metrics import classification_report , accuracy_score\n",
    "\n",
    "clf = Pipeline([\n",
    "    ('tf_idf', TfidfVectorizer()),\n",
    "    ('Multinomial', MultinomialNB())\n",
    "])\n",
    "\n",
    "clf.fit(X_train,y_train)\n",
    "\n",
    "y_pred = clf.predict(X_test)\n",
    "\n",
    "print(accuracy_score(y_pred,y_test))\n",
    "print(classification_report(y_pred,y_test))"
   ]
  },
  {
   "cell_type": "code",
   "execution_count": 13,
   "id": "154f057c-3442-43a1-9790-9f3f45b5164c",
   "metadata": {},
   "outputs": [
    {
     "name": "stdout",
     "output_type": "stream",
     "text": [
      "['Clothing & Accessories']\n"
     ]
    }
   ],
   "source": [
    "idx = clf.predict(['Mens socks comfortable and soft'])\n",
    "ans = le.inverse_transform(idx)\n",
    "print(ans)"
   ]
  },
  {
   "cell_type": "markdown",
   "id": "898cb401-477f-47f1-8bdc-e92aa645583f",
   "metadata": {},
   "source": [
    "# Saving a model"
   ]
  },
  {
   "cell_type": "code",
   "execution_count": 14,
   "id": "b0cd08cb-2b1e-4ebe-b50a-c18d689a906b",
   "metadata": {},
   "outputs": [
    {
     "data": {
      "text/plain": [
       "array([2, 3, 2, ..., 2, 1, 2])"
      ]
     },
     "execution_count": 14,
     "metadata": {},
     "output_type": "execute_result"
    }
   ],
   "source": [
    "import pickle \n",
    "  \n",
    "# Save the trained model as a pickle string. \n",
    "saved_model = pickle.dumps(clf) \n",
    "  \n",
    "# Load the pickled model \n",
    "model = pickle.loads(saved_model) \n",
    "  \n",
    "# Use the loaded pickled model to make predictions \n"
   ]
  },
  {
   "cell_type": "code",
   "execution_count": 27,
   "id": "56875c76-89a7-4ab0-96f3-0928130f5bed",
   "metadata": {},
   "outputs": [],
   "source": [
    "def predict_category(items):\n",
    "    \n",
    "    items_str = \", \".join(items.split(', '))\n",
    "    idx = model.predict([items_str])\n",
    "    return le.inverse_transform(idx)"
   ]
  },
  {
   "cell_type": "code",
   "execution_count": 28,
   "id": "f1c097ec-3e7c-4b3f-9031-cb3a369cc801",
   "metadata": {},
   "outputs": [
    {
     "name": "stdout",
     "output_type": "stream",
     "text": [
      "Running on local URL:  http://127.0.0.1:7866\n",
      "\n",
      "To create a public link, set `share=True` in `launch()`.\n"
     ]
    },
    {
     "data": {
      "text/html": [
       "<div><iframe src=\"http://127.0.0.1:7866/\" width=\"100%\" height=\"500\" allow=\"autoplay; camera; microphone; clipboard-read; clipboard-write;\" frameborder=\"0\" allowfullscreen></iframe></div>"
      ],
      "text/plain": [
       "<IPython.core.display.HTML object>"
      ]
     },
     "metadata": {},
     "output_type": "display_data"
    },
    {
     "data": {
      "text/plain": []
     },
     "execution_count": 28,
     "metadata": {},
     "output_type": "execute_result"
    }
   ],
   "source": [
    "import gradio as gr\n",
    "\n",
    "\n",
    "# Create the Gradio interface\n",
    "interface = gr.Interface(\n",
    "    fn=predict_category,\n",
    "    inputs=gr.Textbox(lines=2, placeholder=\"Enter items separated by commas...\"),\n",
    "    outputs=gr.Textbox(),\n",
    "    title=\"Shopping Category Predictor\",\n",
    "    description=\"Predict the shopping category (e.g., electronics) based on the input items.\",\n",
    "    examples=[[\"bulb, fan\"], [\"laptop, mouse\"], [\"shirt, jeans\"]]\n",
    ")\n",
    "\n",
    "# Launch the Gradio app\n",
    "interface.launch()"
   ]
  },
  {
   "cell_type": "code",
   "execution_count": null,
   "id": "b9626466-6ca5-4c75-acb5-7a403f680a75",
   "metadata": {},
   "outputs": [],
   "source": []
  }
 ],
 "metadata": {
  "kernelspec": {
   "display_name": "Python 3 (ipykernel)",
   "language": "python",
   "name": "python3"
  },
  "language_info": {
   "codemirror_mode": {
    "name": "ipython",
    "version": 3
   },
   "file_extension": ".py",
   "mimetype": "text/x-python",
   "name": "python",
   "nbconvert_exporter": "python",
   "pygments_lexer": "ipython3",
   "version": "3.11.7"
  }
 },
 "nbformat": 4,
 "nbformat_minor": 5
}
